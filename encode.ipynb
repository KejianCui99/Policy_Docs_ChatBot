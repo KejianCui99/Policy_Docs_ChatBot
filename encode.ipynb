{
 "cells": [
  {
   "cell_type": "code",
   "execution_count": null,
   "metadata": {},
   "outputs": [],
   "source": [
    "import base64\n",
    "\n",
    "original_key = \"yourkey\"\n",
    "key_bytes = original_key.encode(\"ascii\")\n",
    "\n",
    "base64_byte = base64.b64encode(key_bytes)\n",
    "base64_string = base64_byte.decode(\"ascii\")\n",
    "print(base64_string)"
   ]
  }
 ],
 "metadata": {
  "kernelspec": {
   "display_name": "tensorflow",
   "language": "python",
   "name": "python3"
  },
  "language_info": {
   "codemirror_mode": {
    "name": "ipython",
    "version": 3
   },
   "file_extension": ".py",
   "mimetype": "text/x-python",
   "name": "python",
   "nbconvert_exporter": "python",
   "pygments_lexer": "ipython3",
   "version": "3.9.5"
  },
  "orig_nbformat": 4
 },
 "nbformat": 4,
 "nbformat_minor": 2
}
